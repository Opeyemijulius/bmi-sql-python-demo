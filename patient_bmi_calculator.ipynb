{
  "nbformat": 4,
  "nbformat_minor": 0,
  "metadata": {
    "colab": {
      "provenance": []
    },
    "kernelspec": {
      "name": "python3",
      "display_name": "Python 3"
    },
    "language_info": {
      "name": "python"
    }
  },
  "cells": [
    {
      "cell_type": "markdown",
      "source": [
        "**Project Goal**: Write a Python function to calculate BMI from patient height and weight, then apply it to a list of patients from a mock relational database and to additionally categorize the BMI (underweight, normal, overweight, obese). It also has a script to update the data with a new patient info and this can be automated for larger patient datasets."
      ],
      "metadata": {
        "id": "icjmZIlMtjr_"
      }
    },
    {
      "cell_type": "markdown",
      "source": [
        "BMI is a number used to estimate a person’s body fat based on their weight and height. It’s widely used in healthcare to screen for weight categories that may lead to health problems."
      ],
      "metadata": {
        "id": "zkl0Ah5lt4MJ"
      }
    },
    {
      "cell_type": "markdown",
      "source": [
        "🧮 How to Calculate BMI\n",
        "\n",
        "Take the person's weight in kilograms (kg)\n",
        "\n",
        "Take the person’s height in centimeters (cm)\n",
        "\n",
        "Convert the height from cm to meters\n",
        "\n",
        "Since 1 meter = 100 cm, divide the height by 100\n",
        "\n",
        "Square the height in meters\n",
        "\n",
        "Divide the weight by the squared height"
      ],
      "metadata": {
        "id": "5uesDfOFt525"
      }
    },
    {
      "cell_type": "markdown",
      "source": [
        "BMI = (weight in kg) / (height in m)^2  = a number or ratio with no units"
      ],
      "metadata": {
        "id": "YJJuV5cbuhkY"
      }
    },
    {
      "cell_type": "markdown",
      "source": [
        "Below code uses SQL (sqlite3 for RAM access, Python, and Pandas)"
      ],
      "metadata": {
        "id": "EBQ6KN8BBdfD"
      }
    },
    {
      "cell_type": "code",
      "source": [
        "import pandas as pd\n",
        "import sqlite3\n",
        "\n",
        "# creates a new SQLite database connection\n",
        "# The special string \":memory:\" tells SQLite to create the database in RAM (memory) instead of on disk.\n",
        "conn = sqlite3.connect (\":memory:\")\n",
        "\n",
        "# creates a cursor object from the connection.\n",
        "# execute SQL commands through the cursor.\n",
        "cursor = conn.cursor()\n",
        "\n",
        "# Create the Table in the relational (structured rows & cols) Database\n",
        "cursor.execute (\n",
        "    \"\"\"\n",
        "    CREATE TABLE bmi_records (\n",
        "      id INTEGER PRIMARY KEY AUTOINCREMENT,\n",
        "      firstName TEXT,\n",
        "      lastName TEXT,\n",
        "      weight_kg REAL,\n",
        "      height_m REAL,\n",
        "      bmi REAL\n",
        "    )\n",
        "    \"\"\"\n",
        ")\n",
        "\n",
        "patients = {\n",
        "    (\"Ada\", \"Nguyen\", 68.0, 1.65),\n",
        "    (\"Liam\", \"Johnson\", 82.0, 1.75),\n",
        "    (\"Zoe\", \"Smith\", 54.0, 1.60),\n",
        "    (\"Noah\", \"Lee\", 95.0, 1.80),\n",
        "    (\"Maya\", \"Patel\", 72.0, 1.70),\n",
        "    (\"Ethan\", \"Kim\", 61.0, 1.68),\n",
        "    (\"Ava\", \"Brown\", 48.5, 1.55),\n",
        "    (\"Oliver\", \"Garcia\", 102.3, 1.90),\n",
        "    (\"Sophia\", \"Martinez\", 63.0, 1.66),\n",
        "    (\"Jackson\", \"Chen\", 76.2, 1.73)\n",
        "}\n",
        "\n",
        "for firstName, lastName, weight_kg, height_m in patients:\n",
        "    bmi = weight_kg / (height_m ** 2) # assume appropriate units\n",
        "    cursor.execute(\n",
        "        \"\"\"\n",
        "        INSERT INTO bmi_records (firstName, lastName, weight_kg, height_m, bmi)\n",
        "        VALUES (?, ?, ?, ?, ?)\n",
        "        \"\"\",\n",
        "    (firstName, lastName, weight_kg, height_m, bmi))\n",
        "\n",
        "df = pd.read_sql_query(\"SELECT * FROM bmi_records\", conn)\n",
        "print(df)"
      ],
      "metadata": {
        "colab": {
          "base_uri": "https://localhost:8080/"
        },
        "id": "vsd1_ugp4VO0",
        "outputId": "73c93834-bbbf-47a1-f365-e4a579045243"
      },
      "execution_count": 24,
      "outputs": [
        {
          "output_type": "stream",
          "name": "stdout",
          "text": [
            "   id firstName  lastName  weight_kg  height_m        bmi\n",
            "0   1       Ada    Nguyen       68.0      1.65  24.977043\n",
            "1   2      Liam   Johnson       82.0      1.75  26.775510\n",
            "2   3       Zoe     Smith       54.0      1.60  21.093750\n",
            "3   4      Noah       Lee       95.0      1.80  29.320988\n",
            "4   5    Oliver    Garcia      102.3      1.90  28.337950\n",
            "5   6    Sophia  Martinez       63.0      1.66  22.862534\n",
            "6   7      Maya     Patel       72.0      1.70  24.913495\n",
            "7   8       Ava     Brown       48.5      1.55  20.187305\n",
            "8   9     Ethan       Kim       61.0      1.68  21.612812\n",
            "9  10   Jackson      Chen       76.2      1.73  25.460256\n"
          ]
        }
      ]
    },
    {
      "cell_type": "code",
      "source": [
        "# Insert Destiny Julius\n",
        "first_name_insert = \"Destiny\"\n",
        "last_name_insert = \"Julius\"\n",
        "weight_kg = 55.8\n",
        "height_m = 1.64\n",
        "bmi = weight_kg / (height_m ** 2)\n",
        "\n",
        "cursor.execute(\n",
        "    \"\"\"\n",
        "    INSERT INTO bmi_records (firstName, lastName, weight_kg, height_m, bmi)\n",
        "    VALUES (?, ?, ?, ?, ?)\n",
        "    \"\"\",\n",
        "    (first_name_insert, last_name_insert, weight_kg, height_m, bmi)\n",
        ")\n",
        "conn.commit()\n",
        "\n",
        "# Delete Destiny Ijeoma\n",
        "first_name_delete = \"Destiny\"\n",
        "last_name_delete = \"Ijeoma\"\n",
        "\n",
        "cursor.execute(\n",
        "    \"\"\"\n",
        "    DELETE FROM bmi_records\n",
        "    WHERE firstName = ? AND lastName = ?\n",
        "    \"\"\",\n",
        "    (first_name_delete, last_name_delete)\n",
        ")\n",
        "conn.commit()\n",
        "\n",
        "# Verify by reading the table\n",
        "df = pd.read_sql_query(\"SELECT * FROM bmi_records\", conn)\n",
        "print(df)\n"
      ],
      "metadata": {
        "colab": {
          "base_uri": "https://localhost:8080/"
        },
        "id": "RDVvaFdN-g9G",
        "outputId": "6bcedab8-a29f-4847-a4b6-55e0267fb503"
      },
      "execution_count": 31,
      "outputs": [
        {
          "output_type": "stream",
          "name": "stdout",
          "text": [
            "    id firstName  lastName  weight_kg  height_m        bmi\n",
            "0    1       Ada    Nguyen       68.0      1.65  24.977043\n",
            "1    2      Liam   Johnson       82.0      1.75  26.775510\n",
            "2    3       Zoe     Smith       54.0      1.60  21.093750\n",
            "3    4      Noah       Lee       95.0      1.80  29.320988\n",
            "4    5    Oliver    Garcia      102.3      1.90  28.337950\n",
            "5    6    Sophia  Martinez       63.0      1.66  22.862534\n",
            "6    7      Maya     Patel       72.0      1.70  24.913495\n",
            "7    8       Ava     Brown       48.5      1.55  20.187305\n",
            "8    9     Ethan       Kim       61.0      1.68  21.612812\n",
            "9   10   Jackson      Chen       76.2      1.73  25.460256\n",
            "10  17   Destiny    Julius       55.8      1.64  20.746579\n"
          ]
        }
      ]
    },
    {
      "cell_type": "code",
      "source": [
        "def print_bmi_report (firstname, lastname, bmi_value, bmi_category):\n",
        "    \"\"\"\n",
        "    Prints a formatted BMI report for a given person.\n",
        "    \"\"\"\n",
        "    print(f\"{firstname, lastname} has a BMI of {bmi_value:.2f}, which falls in the {bmi_category} category.\")"
      ],
      "metadata": {
        "id": "c7ENfLgU1Xae"
      },
      "execution_count": 15,
      "outputs": []
    },
    {
      "cell_type": "code",
      "source": [
        "def calculate_bmi(weight_kg, height_m):\n",
        "    return weight_kg / (height_m ** 2)"
      ],
      "metadata": {
        "id": "57o36Eqnvca0"
      },
      "execution_count": 4,
      "outputs": []
    },
    {
      "cell_type": "code",
      "source": [
        "def categorize_bmi(bmi):\n",
        "    if bmi < 18.5:\n",
        "        return \"Underweight\"\n",
        "    elif 18.5 <= bmi < 25:\n",
        "        return \"Normal\"\n",
        "    elif 25 <= bmi < 30:\n",
        "        return \"Overweight\"\n",
        "    else:\n",
        "        return \"Obese\""
      ],
      "metadata": {
        "id": "DaE3xyvwzvld"
      },
      "execution_count": 13,
      "outputs": []
    },
    {
      "cell_type": "code",
      "source": [
        "# The 11th patient to be added to the database\n",
        "\n",
        "w = 55.7919 # my weight\n",
        "h = 1.64 # my height\n",
        "destiny_bmi = calculate_bmi (w, h)\n",
        "destiny_category = categorize_bmi(destiny_bmi)\n",
        "print_bmi_report(\"Destiny\", \"Julius\", destiny_bmi, destiny_category)"
      ],
      "metadata": {
        "colab": {
          "base_uri": "https://localhost:8080/"
        },
        "id": "snU7irv4xuwy",
        "outputId": "2881e268-6428-4c0e-8c3c-9b1ab05306aa"
      },
      "execution_count": 16,
      "outputs": [
        {
          "output_type": "stream",
          "name": "stdout",
          "text": [
            "('Destiny', 'Julius') has a BMI of 20.74, which falls in the Normal category.\n"
          ]
        }
      ]
    }
  ]
}